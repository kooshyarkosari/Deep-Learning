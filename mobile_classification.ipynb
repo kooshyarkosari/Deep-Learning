{
  "nbformat": 4,
  "nbformat_minor": 0,
  "metadata": {
    "colab": {
      "name": "mobile -classification.ipynb",
      "provenance": []
    },
    "kernelspec": {
      "name": "python3",
      "display_name": "Python 3"
    }
  },
  "cells": [
    {
      "cell_type": "code",
      "metadata": {
        "id": "XrjASIYQfFgT",
        "colab_type": "code",
        "colab": {}
      },
      "source": [
        "import pandas as pd"
      ],
      "execution_count": 2,
      "outputs": []
    },
    {
      "cell_type": "code",
      "metadata": {
        "id": "g1x4Vm0LfXSU",
        "colab_type": "code",
        "colab": {}
      },
      "source": [
        "data=pd.read_csv(\"/content/drive/My Drive/mobile.csv\")"
      ],
      "execution_count": 3,
      "outputs": []
    },
    {
      "cell_type": "code",
      "metadata": {
        "id": "HLiqbKB3firu",
        "colab_type": "code",
        "colab": {
          "base_uri": "https://localhost:8080/",
          "height": 224
        },
        "outputId": "62985629-75be-44cb-8964-456e23499376"
      },
      "source": [
        "data.head()"
      ],
      "execution_count": 4,
      "outputs": [
        {
          "output_type": "execute_result",
          "data": {
            "text/html": [
              "<div>\n",
              "<style scoped>\n",
              "    .dataframe tbody tr th:only-of-type {\n",
              "        vertical-align: middle;\n",
              "    }\n",
              "\n",
              "    .dataframe tbody tr th {\n",
              "        vertical-align: top;\n",
              "    }\n",
              "\n",
              "    .dataframe thead th {\n",
              "        text-align: right;\n",
              "    }\n",
              "</style>\n",
              "<table border=\"1\" class=\"dataframe\">\n",
              "  <thead>\n",
              "    <tr style=\"text-align: right;\">\n",
              "      <th></th>\n",
              "      <th>battery_power</th>\n",
              "      <th>blue</th>\n",
              "      <th>clock_speed</th>\n",
              "      <th>dual_sim</th>\n",
              "      <th>fc</th>\n",
              "      <th>four_g</th>\n",
              "      <th>int_memory</th>\n",
              "      <th>m_dep</th>\n",
              "      <th>mobile_wt</th>\n",
              "      <th>n_cores</th>\n",
              "      <th>pc</th>\n",
              "      <th>px_height</th>\n",
              "      <th>px_width</th>\n",
              "      <th>ram</th>\n",
              "      <th>sc_h</th>\n",
              "      <th>sc_w</th>\n",
              "      <th>talk_time</th>\n",
              "      <th>three_g</th>\n",
              "      <th>touch_screen</th>\n",
              "      <th>wifi</th>\n",
              "      <th>price_range</th>\n",
              "    </tr>\n",
              "  </thead>\n",
              "  <tbody>\n",
              "    <tr>\n",
              "      <th>0</th>\n",
              "      <td>842</td>\n",
              "      <td>0</td>\n",
              "      <td>2.2</td>\n",
              "      <td>0</td>\n",
              "      <td>1</td>\n",
              "      <td>0</td>\n",
              "      <td>7</td>\n",
              "      <td>0.6</td>\n",
              "      <td>188</td>\n",
              "      <td>2</td>\n",
              "      <td>2</td>\n",
              "      <td>20</td>\n",
              "      <td>756</td>\n",
              "      <td>2549</td>\n",
              "      <td>9</td>\n",
              "      <td>7</td>\n",
              "      <td>19</td>\n",
              "      <td>0</td>\n",
              "      <td>0</td>\n",
              "      <td>1</td>\n",
              "      <td>1</td>\n",
              "    </tr>\n",
              "    <tr>\n",
              "      <th>1</th>\n",
              "      <td>1021</td>\n",
              "      <td>1</td>\n",
              "      <td>0.5</td>\n",
              "      <td>1</td>\n",
              "      <td>0</td>\n",
              "      <td>1</td>\n",
              "      <td>53</td>\n",
              "      <td>0.7</td>\n",
              "      <td>136</td>\n",
              "      <td>3</td>\n",
              "      <td>6</td>\n",
              "      <td>905</td>\n",
              "      <td>1988</td>\n",
              "      <td>2631</td>\n",
              "      <td>17</td>\n",
              "      <td>3</td>\n",
              "      <td>7</td>\n",
              "      <td>1</td>\n",
              "      <td>1</td>\n",
              "      <td>0</td>\n",
              "      <td>2</td>\n",
              "    </tr>\n",
              "    <tr>\n",
              "      <th>2</th>\n",
              "      <td>563</td>\n",
              "      <td>1</td>\n",
              "      <td>0.5</td>\n",
              "      <td>1</td>\n",
              "      <td>2</td>\n",
              "      <td>1</td>\n",
              "      <td>41</td>\n",
              "      <td>0.9</td>\n",
              "      <td>145</td>\n",
              "      <td>5</td>\n",
              "      <td>6</td>\n",
              "      <td>1263</td>\n",
              "      <td>1716</td>\n",
              "      <td>2603</td>\n",
              "      <td>11</td>\n",
              "      <td>2</td>\n",
              "      <td>9</td>\n",
              "      <td>1</td>\n",
              "      <td>1</td>\n",
              "      <td>0</td>\n",
              "      <td>2</td>\n",
              "    </tr>\n",
              "    <tr>\n",
              "      <th>3</th>\n",
              "      <td>615</td>\n",
              "      <td>1</td>\n",
              "      <td>2.5</td>\n",
              "      <td>0</td>\n",
              "      <td>0</td>\n",
              "      <td>0</td>\n",
              "      <td>10</td>\n",
              "      <td>0.8</td>\n",
              "      <td>131</td>\n",
              "      <td>6</td>\n",
              "      <td>9</td>\n",
              "      <td>1216</td>\n",
              "      <td>1786</td>\n",
              "      <td>2769</td>\n",
              "      <td>16</td>\n",
              "      <td>8</td>\n",
              "      <td>11</td>\n",
              "      <td>1</td>\n",
              "      <td>0</td>\n",
              "      <td>0</td>\n",
              "      <td>2</td>\n",
              "    </tr>\n",
              "    <tr>\n",
              "      <th>4</th>\n",
              "      <td>1821</td>\n",
              "      <td>1</td>\n",
              "      <td>1.2</td>\n",
              "      <td>0</td>\n",
              "      <td>13</td>\n",
              "      <td>1</td>\n",
              "      <td>44</td>\n",
              "      <td>0.6</td>\n",
              "      <td>141</td>\n",
              "      <td>2</td>\n",
              "      <td>14</td>\n",
              "      <td>1208</td>\n",
              "      <td>1212</td>\n",
              "      <td>1411</td>\n",
              "      <td>8</td>\n",
              "      <td>2</td>\n",
              "      <td>15</td>\n",
              "      <td>1</td>\n",
              "      <td>1</td>\n",
              "      <td>0</td>\n",
              "      <td>1</td>\n",
              "    </tr>\n",
              "  </tbody>\n",
              "</table>\n",
              "</div>"
            ],
            "text/plain": [
              "   battery_power  blue  clock_speed  ...  touch_screen  wifi  price_range\n",
              "0            842     0          2.2  ...             0     1            1\n",
              "1           1021     1          0.5  ...             1     0            2\n",
              "2            563     1          0.5  ...             1     0            2\n",
              "3            615     1          2.5  ...             0     0            2\n",
              "4           1821     1          1.2  ...             1     0            1\n",
              "\n",
              "[5 rows x 21 columns]"
            ]
          },
          "metadata": {
            "tags": []
          },
          "execution_count": 4
        }
      ]
    },
    {
      "cell_type": "code",
      "metadata": {
        "id": "O3fUuwtVnGm6",
        "colab_type": "code",
        "colab": {
          "base_uri": "https://localhost:8080/",
          "height": 102
        },
        "outputId": "99070dcb-8dd3-49b0-f662-562531cdd1b3"
      },
      "source": [
        "data[\"price_range\"].value_counts()"
      ],
      "execution_count": 27,
      "outputs": [
        {
          "output_type": "execute_result",
          "data": {
            "text/plain": [
              "3    500\n",
              "2    500\n",
              "1    500\n",
              "0    500\n",
              "Name: price_range, dtype: int64"
            ]
          },
          "metadata": {
            "tags": []
          },
          "execution_count": 27
        }
      ]
    },
    {
      "cell_type": "code",
      "metadata": {
        "id": "h3A6l5TrfnFD",
        "colab_type": "code",
        "colab": {
          "base_uri": "https://localhost:8080/",
          "height": 391
        },
        "outputId": "e6019a35-5e6a-47ff-a4ec-170517a223e3"
      },
      "source": [
        "data.isnull().sum()"
      ],
      "execution_count": 5,
      "outputs": [
        {
          "output_type": "execute_result",
          "data": {
            "text/plain": [
              "battery_power    0\n",
              "blue             0\n",
              "clock_speed      0\n",
              "dual_sim         0\n",
              "fc               0\n",
              "four_g           0\n",
              "int_memory       0\n",
              "m_dep            0\n",
              "mobile_wt        0\n",
              "n_cores          0\n",
              "pc               0\n",
              "px_height        0\n",
              "px_width         0\n",
              "ram              0\n",
              "sc_h             0\n",
              "sc_w             0\n",
              "talk_time        0\n",
              "three_g          0\n",
              "touch_screen     0\n",
              "wifi             0\n",
              "price_range      0\n",
              "dtype: int64"
            ]
          },
          "metadata": {
            "tags": []
          },
          "execution_count": 5
        }
      ]
    },
    {
      "cell_type": "code",
      "metadata": {
        "id": "Agm7yitPfvdp",
        "colab_type": "code",
        "colab": {}
      },
      "source": [
        "X=data.drop(\"price_range\",axis=1)\n",
        "Y=data[\"price_range\"]"
      ],
      "execution_count": 11,
      "outputs": []
    },
    {
      "cell_type": "code",
      "metadata": {
        "id": "oSibfIMPgxOa",
        "colab_type": "code",
        "colab": {}
      },
      "source": [
        "# Splitting the dataset into the Training set and Test set\n",
        "from sklearn.model_selection import train_test_split\n",
        "X_train, X_test, y_train, y_test = train_test_split(X, Y, test_size = 0.2, random_state = 0)"
      ],
      "execution_count": 13,
      "outputs": []
    },
    {
      "cell_type": "code",
      "metadata": {
        "id": "fwTo7iFUhMYb",
        "colab_type": "code",
        "colab": {
          "base_uri": "https://localhost:8080/",
          "height": 34
        },
        "outputId": "1e010544-4591-4fdd-aee5-9fd5f0b3d99c"
      },
      "source": [
        "X_train.shape"
      ],
      "execution_count": 14,
      "outputs": [
        {
          "output_type": "execute_result",
          "data": {
            "text/plain": [
              "(1600, 20)"
            ]
          },
          "metadata": {
            "tags": []
          },
          "execution_count": 14
        }
      ]
    },
    {
      "cell_type": "code",
      "metadata": {
        "id": "xxVXXIXXhRjr",
        "colab_type": "code",
        "colab": {}
      },
      "source": [
        "# Feature Scaling\n",
        "from sklearn.preprocessing import StandardScaler\n",
        "sc = StandardScaler()\n",
        "X_train = sc.fit_transform(X_train)\n",
        "X_test = sc.transform(X_test)"
      ],
      "execution_count": 15,
      "outputs": []
    },
    {
      "cell_type": "code",
      "metadata": {
        "id": "C8s7IF-MhZEw",
        "colab_type": "code",
        "colab": {
          "base_uri": "https://localhost:8080/",
          "height": 34
        },
        "outputId": "4383250d-fc8b-479f-cb5d-6190597574d4"
      },
      "source": [
        "# Importing the Keras libraries and packages\n",
        "import keras\n",
        "from keras.models import Sequential\n",
        "from keras.layers import Dense\n",
        "from keras.layers import LeakyReLU,PReLU,ELU\n",
        "from keras.layers import Dropout"
      ],
      "execution_count": 16,
      "outputs": [
        {
          "output_type": "stream",
          "text": [
            "Using TensorFlow backend.\n"
          ],
          "name": "stderr"
        }
      ]
    },
    {
      "cell_type": "code",
      "metadata": {
        "id": "CTcwzhUMhgf_",
        "colab_type": "code",
        "colab": {}
      },
      "source": [
        "# Initialising the ANN\n",
        "classifier = Sequential()"
      ],
      "execution_count": 17,
      "outputs": []
    },
    {
      "cell_type": "code",
      "metadata": {
        "id": "Um_6z1rkjitU",
        "colab_type": "code",
        "colab": {}
      },
      "source": [
        "# Adding the input layer and the first hidden layer\n",
        "classifier.add(Dense(units= 10, kernel_initializer= 'he_uniform',activation='relu',input_dim = 20))\n",
        "# addimg drop out\n",
        "classifier.add(Dropout(0.3))"
      ],
      "execution_count": 46,
      "outputs": []
    },
    {
      "cell_type": "code",
      "metadata": {
        "id": "7Fhp4aXKksWF",
        "colab_type": "code",
        "colab": {}
      },
      "source": [
        "# Adding the second hidden layer\n",
        "classifier.add(Dense(units = 10, kernel_initializer= 'he_uniform',activation='relu'))\n",
        "classifier.add(Dropout(0.4))"
      ],
      "execution_count": 47,
      "outputs": []
    },
    {
      "cell_type": "code",
      "metadata": {
        "id": "xrY_WTJLwkzH",
        "colab_type": "code",
        "colab": {}
      },
      "source": [
        "# Adding the third hidden layer\n",
        "classifier.add(Dense(units = 15, kernel_initializer= 'he_uniform',activation='relu'))\n",
        "classifier.add(Dropout(0.2))"
      ],
      "execution_count": 48,
      "outputs": []
    },
    {
      "cell_type": "code",
      "metadata": {
        "id": "mwnJTadWlZ4A",
        "colab_type": "code",
        "colab": {}
      },
      "source": [
        "# Adding the output layer\n",
        "\n",
        "classifier.add(Dense(units= 4, kernel_initializer=  'glorot_uniform', activation = 'sigmoid'))\n"
      ],
      "execution_count": 49,
      "outputs": []
    },
    {
      "cell_type": "code",
      "metadata": {
        "id": "1Q5wdbLDlwIv",
        "colab_type": "code",
        "colab": {
          "base_uri": "https://localhost:8080/",
          "height": 819
        },
        "outputId": "a8153594-9777-411c-93d6-0c4e1a1e1638"
      },
      "source": [
        "classifier.summary()"
      ],
      "execution_count": 50,
      "outputs": [
        {
          "output_type": "stream",
          "text": [
            "Model: \"sequential_1\"\n",
            "_________________________________________________________________\n",
            "Layer (type)                 Output Shape              Param #   \n",
            "=================================================================\n",
            "dense_1 (Dense)              (None, 6)                 126       \n",
            "_________________________________________________________________\n",
            "dense_2 (Dense)              (None, 6)                 42        \n",
            "_________________________________________________________________\n",
            "dense_3 (Dense)              (None, 1)                 7         \n",
            "_________________________________________________________________\n",
            "dense_4 (Dense)              (None, 4)                 8         \n",
            "_________________________________________________________________\n",
            "dense_5 (Dense)              (None, 10)                50        \n",
            "_________________________________________________________________\n",
            "dense_6 (Dense)              (None, 10)                110       \n",
            "_________________________________________________________________\n",
            "dense_7 (Dense)              (None, 4)                 44        \n",
            "_________________________________________________________________\n",
            "dense_8 (Dense)              (None, 15)                75        \n",
            "_________________________________________________________________\n",
            "dense_9 (Dense)              (None, 4)                 64        \n",
            "_________________________________________________________________\n",
            "dense_10 (Dense)             (None, 10)                50        \n",
            "_________________________________________________________________\n",
            "dropout_1 (Dropout)          (None, 10)                0         \n",
            "_________________________________________________________________\n",
            "dense_11 (Dense)             (None, 10)                110       \n",
            "_________________________________________________________________\n",
            "dropout_2 (Dropout)          (None, 10)                0         \n",
            "_________________________________________________________________\n",
            "dense_12 (Dense)             (None, 10)                110       \n",
            "_________________________________________________________________\n",
            "dropout_3 (Dropout)          (None, 10)                0         \n",
            "_________________________________________________________________\n",
            "dense_13 (Dense)             (None, 15)                165       \n",
            "_________________________________________________________________\n",
            "dropout_4 (Dropout)          (None, 15)                0         \n",
            "_________________________________________________________________\n",
            "dense_14 (Dense)             (None, 4)                 64        \n",
            "=================================================================\n",
            "Total params: 526\n",
            "Trainable params: 526\n",
            "Non-trainable params: 0\n",
            "_________________________________________________________________\n"
          ],
          "name": "stdout"
        },
        {
          "output_type": "stream",
          "text": [
            "/usr/local/lib/python3.6/dist-packages/keras/engine/training.py:297: UserWarning: Discrepancy between trainable weights and collected trainable weights, did you set `model.trainable` without calling `model.compile` after ?\n",
            "  'Discrepancy between trainable weights and collected trainable'\n"
          ],
          "name": "stderr"
        }
      ]
    },
    {
      "cell_type": "code",
      "metadata": {
        "id": "UjOYO1NRl_wJ",
        "colab_type": "code",
        "colab": {}
      },
      "source": [
        "# Compiling the ANN\n",
        "classifier.compile(optimizer = 'adam', loss = 'sparse_categorical_crossentropy', metrics = ['accuracy'])"
      ],
      "execution_count": 51,
      "outputs": []
    },
    {
      "cell_type": "code",
      "metadata": {
        "id": "tmZmVNBHmW5W",
        "colab_type": "code",
        "colab": {
          "base_uri": "https://localhost:8080/",
          "height": 1000
        },
        "outputId": "1e1ee0a8-a486-482a-8f04-ae6441d3b00c"
      },
      "source": [
        "# Fitting the ANN to the Training set\n",
        "model_history=classifier.fit(X_train, y_train,validation_split=0.33, batch_size = 10, nb_epoch = 100)\n"
      ],
      "execution_count": 52,
      "outputs": [
        {
          "output_type": "stream",
          "text": [
            "/usr/local/lib/python3.6/dist-packages/ipykernel_launcher.py:2: UserWarning: The `nb_epoch` argument in `fit` has been renamed `epochs`.\n",
            "  \n"
          ],
          "name": "stderr"
        },
        {
          "output_type": "stream",
          "text": [
            "Train on 1072 samples, validate on 528 samples\n",
            "Epoch 1/100\n",
            "1072/1072 [==============================] - 1s 779us/step - loss: 1.3383 - accuracy: 0.2752 - val_loss: 1.3136 - val_accuracy: 0.4905\n",
            "Epoch 2/100\n",
            "1072/1072 [==============================] - 0s 323us/step - loss: 1.1891 - accuracy: 0.4627 - val_loss: 1.1212 - val_accuracy: 0.5417\n",
            "Epoch 3/100\n",
            "1072/1072 [==============================] - 0s 260us/step - loss: 1.0785 - accuracy: 0.5093 - val_loss: 1.0409 - val_accuracy: 0.5379\n",
            "Epoch 4/100\n",
            "1072/1072 [==============================] - 0s 264us/step - loss: 1.0181 - accuracy: 0.4981 - val_loss: 0.9977 - val_accuracy: 0.5398\n",
            "Epoch 5/100\n",
            "1072/1072 [==============================] - 0s 259us/step - loss: 0.9657 - accuracy: 0.5205 - val_loss: 0.9702 - val_accuracy: 0.5284\n",
            "Epoch 6/100\n",
            "1072/1072 [==============================] - 0s 247us/step - loss: 0.9039 - accuracy: 0.5187 - val_loss: 0.9428 - val_accuracy: 0.5208\n",
            "Epoch 7/100\n",
            "1072/1072 [==============================] - 0s 248us/step - loss: 0.8696 - accuracy: 0.5243 - val_loss: 0.9040 - val_accuracy: 0.5265\n",
            "Epoch 8/100\n",
            "1072/1072 [==============================] - 0s 258us/step - loss: 0.8203 - accuracy: 0.5252 - val_loss: 0.8834 - val_accuracy: 0.5284\n",
            "Epoch 9/100\n",
            "1072/1072 [==============================] - 0s 248us/step - loss: 0.8077 - accuracy: 0.5140 - val_loss: 0.8716 - val_accuracy: 0.5322\n",
            "Epoch 10/100\n",
            "1072/1072 [==============================] - 0s 252us/step - loss: 0.7759 - accuracy: 0.5019 - val_loss: 0.8743 - val_accuracy: 0.5246\n",
            "Epoch 11/100\n",
            "1072/1072 [==============================] - 0s 248us/step - loss: 0.7649 - accuracy: 0.5028 - val_loss: 0.8788 - val_accuracy: 0.5208\n",
            "Epoch 12/100\n",
            "1072/1072 [==============================] - 0s 269us/step - loss: 0.7489 - accuracy: 0.5121 - val_loss: 0.8903 - val_accuracy: 0.5152\n",
            "Epoch 13/100\n",
            "1072/1072 [==============================] - 0s 244us/step - loss: 0.7446 - accuracy: 0.5093 - val_loss: 0.8988 - val_accuracy: 0.5114\n",
            "Epoch 14/100\n",
            "1072/1072 [==============================] - 0s 258us/step - loss: 0.7271 - accuracy: 0.5177 - val_loss: 0.9045 - val_accuracy: 0.5133\n",
            "Epoch 15/100\n",
            "1072/1072 [==============================] - 0s 260us/step - loss: 0.7356 - accuracy: 0.5149 - val_loss: 0.9030 - val_accuracy: 0.5152\n",
            "Epoch 16/100\n",
            "1072/1072 [==============================] - 0s 260us/step - loss: 0.7264 - accuracy: 0.5028 - val_loss: 0.9019 - val_accuracy: 0.5133\n",
            "Epoch 17/100\n",
            "1072/1072 [==============================] - 0s 255us/step - loss: 0.7182 - accuracy: 0.5243 - val_loss: 0.9062 - val_accuracy: 0.5133\n",
            "Epoch 18/100\n",
            "1072/1072 [==============================] - 0s 246us/step - loss: 0.7240 - accuracy: 0.5131 - val_loss: 0.9284 - val_accuracy: 0.5170\n",
            "Epoch 19/100\n",
            "1072/1072 [==============================] - 0s 250us/step - loss: 0.7260 - accuracy: 0.5075 - val_loss: 0.9145 - val_accuracy: 0.5170\n",
            "Epoch 20/100\n",
            "1072/1072 [==============================] - 0s 247us/step - loss: 0.7098 - accuracy: 0.5299 - val_loss: 0.9157 - val_accuracy: 0.5095\n",
            "Epoch 21/100\n",
            "1072/1072 [==============================] - 0s 258us/step - loss: 0.7199 - accuracy: 0.5075 - val_loss: 0.9279 - val_accuracy: 0.5095\n",
            "Epoch 22/100\n",
            "1072/1072 [==============================] - 0s 252us/step - loss: 0.7028 - accuracy: 0.5308 - val_loss: 0.9285 - val_accuracy: 0.5095\n",
            "Epoch 23/100\n",
            "1072/1072 [==============================] - 0s 257us/step - loss: 0.7092 - accuracy: 0.5084 - val_loss: 0.9302 - val_accuracy: 0.5000\n",
            "Epoch 24/100\n",
            "1072/1072 [==============================] - 0s 252us/step - loss: 0.7091 - accuracy: 0.5065 - val_loss: 0.9318 - val_accuracy: 0.4981\n",
            "Epoch 25/100\n",
            "1072/1072 [==============================] - 0s 251us/step - loss: 0.7046 - accuracy: 0.5093 - val_loss: 0.9337 - val_accuracy: 0.4981\n",
            "Epoch 26/100\n",
            "1072/1072 [==============================] - 0s 266us/step - loss: 0.7242 - accuracy: 0.4841 - val_loss: 0.9260 - val_accuracy: 0.4924\n",
            "Epoch 27/100\n",
            "1072/1072 [==============================] - 0s 248us/step - loss: 0.7046 - accuracy: 0.4991 - val_loss: 0.9238 - val_accuracy: 0.4905\n",
            "Epoch 28/100\n",
            "1072/1072 [==============================] - 0s 252us/step - loss: 0.7194 - accuracy: 0.5093 - val_loss: 0.9686 - val_accuracy: 0.4943\n",
            "Epoch 29/100\n",
            "1072/1072 [==============================] - 0s 256us/step - loss: 0.7265 - accuracy: 0.5149 - val_loss: 0.9056 - val_accuracy: 0.4962\n",
            "Epoch 30/100\n",
            "1072/1072 [==============================] - 0s 263us/step - loss: 0.7196 - accuracy: 0.5047 - val_loss: 0.9030 - val_accuracy: 0.5000\n",
            "Epoch 31/100\n",
            "1072/1072 [==============================] - 0s 249us/step - loss: 0.7346 - accuracy: 0.4981 - val_loss: 0.8944 - val_accuracy: 0.5000\n",
            "Epoch 32/100\n",
            "1072/1072 [==============================] - 0s 250us/step - loss: 0.7331 - accuracy: 0.4972 - val_loss: 0.9007 - val_accuracy: 0.4943\n",
            "Epoch 33/100\n",
            "1072/1072 [==============================] - 0s 255us/step - loss: 0.7139 - accuracy: 0.5093 - val_loss: 0.9044 - val_accuracy: 0.4924\n",
            "Epoch 34/100\n",
            "1072/1072 [==============================] - 0s 255us/step - loss: 0.7129 - accuracy: 0.5065 - val_loss: 0.9034 - val_accuracy: 0.4924\n",
            "Epoch 35/100\n",
            "1072/1072 [==============================] - 0s 263us/step - loss: 0.7179 - accuracy: 0.5177 - val_loss: 0.9175 - val_accuracy: 0.4924\n",
            "Epoch 36/100\n",
            "1072/1072 [==============================] - 0s 268us/step - loss: 0.7206 - accuracy: 0.5159 - val_loss: 0.9198 - val_accuracy: 0.4924\n",
            "Epoch 37/100\n",
            "1072/1072 [==============================] - 0s 255us/step - loss: 0.7195 - accuracy: 0.4991 - val_loss: 0.9223 - val_accuracy: 0.4924\n",
            "Epoch 38/100\n",
            "1072/1072 [==============================] - 0s 250us/step - loss: 0.7259 - accuracy: 0.5084 - val_loss: 0.9373 - val_accuracy: 0.4924\n",
            "Epoch 39/100\n",
            "1072/1072 [==============================] - 0s 251us/step - loss: 0.7117 - accuracy: 0.5084 - val_loss: 0.9413 - val_accuracy: 0.4905\n",
            "Epoch 40/100\n",
            "1072/1072 [==============================] - 0s 261us/step - loss: 0.7175 - accuracy: 0.5084 - val_loss: 0.9514 - val_accuracy: 0.4905\n",
            "Epoch 41/100\n",
            "1072/1072 [==============================] - 0s 327us/step - loss: 0.7185 - accuracy: 0.5047 - val_loss: 0.9702 - val_accuracy: 0.4924\n",
            "Epoch 42/100\n",
            "1072/1072 [==============================] - 0s 320us/step - loss: 0.7696 - accuracy: 0.5121 - val_loss: 1.0169 - val_accuracy: 0.4848\n",
            "Epoch 43/100\n",
            "1072/1072 [==============================] - 0s 254us/step - loss: 0.7413 - accuracy: 0.4953 - val_loss: 0.9133 - val_accuracy: 0.4962\n",
            "Epoch 44/100\n",
            "1072/1072 [==============================] - 0s 257us/step - loss: 0.7024 - accuracy: 0.5140 - val_loss: 0.9149 - val_accuracy: 0.4962\n",
            "Epoch 45/100\n",
            "1072/1072 [==============================] - 0s 263us/step - loss: 0.7204 - accuracy: 0.5056 - val_loss: 0.9106 - val_accuracy: 0.4962\n",
            "Epoch 46/100\n",
            "1072/1072 [==============================] - 0s 255us/step - loss: 0.7424 - accuracy: 0.5159 - val_loss: 0.9349 - val_accuracy: 0.5019\n",
            "Epoch 47/100\n",
            "1072/1072 [==============================] - 0s 324us/step - loss: 0.7709 - accuracy: 0.5112 - val_loss: 0.8890 - val_accuracy: 0.5000\n",
            "Epoch 48/100\n",
            "1072/1072 [==============================] - 0s 322us/step - loss: 0.7438 - accuracy: 0.5103 - val_loss: 0.8953 - val_accuracy: 0.4943\n",
            "Epoch 49/100\n",
            "1072/1072 [==============================] - 0s 271us/step - loss: 0.7268 - accuracy: 0.5093 - val_loss: 0.8757 - val_accuracy: 0.4924\n",
            "Epoch 50/100\n",
            "1072/1072 [==============================] - 0s 252us/step - loss: 0.7202 - accuracy: 0.5112 - val_loss: 0.8782 - val_accuracy: 0.4962\n",
            "Epoch 51/100\n",
            "1072/1072 [==============================] - 0s 264us/step - loss: 0.7055 - accuracy: 0.5000 - val_loss: 0.8964 - val_accuracy: 0.4943\n",
            "Epoch 52/100\n",
            "1072/1072 [==============================] - 0s 259us/step - loss: 0.7102 - accuracy: 0.5084 - val_loss: 0.8897 - val_accuracy: 0.4943\n",
            "Epoch 53/100\n",
            "1072/1072 [==============================] - 0s 253us/step - loss: 0.7118 - accuracy: 0.5065 - val_loss: 0.8974 - val_accuracy: 0.4905\n",
            "Epoch 54/100\n",
            "1072/1072 [==============================] - 0s 310us/step - loss: 0.7130 - accuracy: 0.5056 - val_loss: 0.9019 - val_accuracy: 0.4905\n",
            "Epoch 55/100\n",
            "1072/1072 [==============================] - 0s 249us/step - loss: 0.7074 - accuracy: 0.5037 - val_loss: 0.9200 - val_accuracy: 0.4943\n",
            "Epoch 56/100\n",
            "1072/1072 [==============================] - 0s 269us/step - loss: 0.7031 - accuracy: 0.5075 - val_loss: 0.9506 - val_accuracy: 0.4943\n",
            "Epoch 57/100\n",
            "1072/1072 [==============================] - 0s 251us/step - loss: 0.7034 - accuracy: 0.4953 - val_loss: 0.9502 - val_accuracy: 0.4943\n",
            "Epoch 58/100\n",
            "1072/1072 [==============================] - 0s 264us/step - loss: 0.7055 - accuracy: 0.5121 - val_loss: 0.9584 - val_accuracy: 0.4943\n",
            "Epoch 59/100\n",
            "1072/1072 [==============================] - 0s 266us/step - loss: 0.7206 - accuracy: 0.5037 - val_loss: 0.9394 - val_accuracy: 0.4924\n",
            "Epoch 60/100\n",
            "1072/1072 [==============================] - 0s 286us/step - loss: 0.7158 - accuracy: 0.5093 - val_loss: 0.9621 - val_accuracy: 0.4905\n",
            "Epoch 61/100\n",
            "1072/1072 [==============================] - 0s 332us/step - loss: 0.7028 - accuracy: 0.5065 - val_loss: 0.9563 - val_accuracy: 0.4905\n",
            "Epoch 62/100\n",
            "1072/1072 [==============================] - 0s 304us/step - loss: 0.7089 - accuracy: 0.5056 - val_loss: 0.9983 - val_accuracy: 0.4886\n",
            "Epoch 63/100\n",
            "1072/1072 [==============================] - 0s 275us/step - loss: 0.7138 - accuracy: 0.5047 - val_loss: 0.9930 - val_accuracy: 0.4886\n",
            "Epoch 64/100\n",
            "1072/1072 [==============================] - 0s 315us/step - loss: 0.7044 - accuracy: 0.5000 - val_loss: 0.9918 - val_accuracy: 0.4886\n",
            "Epoch 65/100\n",
            "1072/1072 [==============================] - 0s 319us/step - loss: 0.7116 - accuracy: 0.5056 - val_loss: 1.0027 - val_accuracy: 0.4886\n",
            "Epoch 66/100\n",
            "1072/1072 [==============================] - 0s 258us/step - loss: 0.7046 - accuracy: 0.5093 - val_loss: 1.0067 - val_accuracy: 0.4886\n",
            "Epoch 67/100\n",
            "1072/1072 [==============================] - 0s 249us/step - loss: 0.7025 - accuracy: 0.4991 - val_loss: 1.0090 - val_accuracy: 0.4886\n",
            "Epoch 68/100\n",
            "1072/1072 [==============================] - 0s 255us/step - loss: 0.7023 - accuracy: 0.5103 - val_loss: 1.0098 - val_accuracy: 0.4886\n",
            "Epoch 69/100\n",
            "1072/1072 [==============================] - 0s 262us/step - loss: 0.7168 - accuracy: 0.5084 - val_loss: 1.0051 - val_accuracy: 0.4886\n",
            "Epoch 70/100\n",
            "1072/1072 [==============================] - 0s 310us/step - loss: 0.7012 - accuracy: 0.5140 - val_loss: 1.0068 - val_accuracy: 0.4886\n",
            "Epoch 71/100\n",
            "1072/1072 [==============================] - 0s 325us/step - loss: 0.7144 - accuracy: 0.5037 - val_loss: 0.9611 - val_accuracy: 0.4924\n",
            "Epoch 72/100\n",
            "1072/1072 [==============================] - 0s 276us/step - loss: 0.7045 - accuracy: 0.5112 - val_loss: 0.9686 - val_accuracy: 0.4924\n",
            "Epoch 73/100\n",
            "1072/1072 [==============================] - 0s 299us/step - loss: 0.7061 - accuracy: 0.5009 - val_loss: 0.9781 - val_accuracy: 0.4924\n",
            "Epoch 74/100\n",
            "1072/1072 [==============================] - 0s 323us/step - loss: 0.7004 - accuracy: 0.5093 - val_loss: 0.9746 - val_accuracy: 0.4905\n",
            "Epoch 75/100\n",
            "1072/1072 [==============================] - 0s 320us/step - loss: 0.7008 - accuracy: 0.5103 - val_loss: 0.9968 - val_accuracy: 0.4924\n",
            "Epoch 76/100\n",
            "1072/1072 [==============================] - 0s 257us/step - loss: 0.7084 - accuracy: 0.5047 - val_loss: 1.0060 - val_accuracy: 0.4886\n",
            "Epoch 77/100\n",
            "1072/1072 [==============================] - 0s 245us/step - loss: 0.7023 - accuracy: 0.5028 - val_loss: 1.0043 - val_accuracy: 0.4886\n",
            "Epoch 78/100\n",
            "1072/1072 [==============================] - 0s 254us/step - loss: 0.7198 - accuracy: 0.5047 - val_loss: 0.9973 - val_accuracy: 0.4905\n",
            "Epoch 79/100\n",
            "1072/1072 [==============================] - 0s 257us/step - loss: 0.7028 - accuracy: 0.5037 - val_loss: 1.0189 - val_accuracy: 0.4867\n",
            "Epoch 80/100\n",
            "1072/1072 [==============================] - 0s 245us/step - loss: 0.7121 - accuracy: 0.5140 - val_loss: 1.0170 - val_accuracy: 0.4886\n",
            "Epoch 81/100\n",
            "1072/1072 [==============================] - 0s 247us/step - loss: 0.7156 - accuracy: 0.5019 - val_loss: 1.0119 - val_accuracy: 0.4886\n",
            "Epoch 82/100\n",
            "1072/1072 [==============================] - 0s 255us/step - loss: 0.7054 - accuracy: 0.5075 - val_loss: 1.0117 - val_accuracy: 0.4905\n",
            "Epoch 83/100\n",
            "1072/1072 [==============================] - 0s 253us/step - loss: 0.7068 - accuracy: 0.5019 - val_loss: 1.0103 - val_accuracy: 0.4905\n",
            "Epoch 84/100\n",
            "1072/1072 [==============================] - 0s 254us/step - loss: 0.7168 - accuracy: 0.5056 - val_loss: 1.0064 - val_accuracy: 0.4905\n",
            "Epoch 85/100\n",
            "1072/1072 [==============================] - 0s 262us/step - loss: 0.7050 - accuracy: 0.5112 - val_loss: 1.0093 - val_accuracy: 0.4905\n",
            "Epoch 86/100\n",
            "1072/1072 [==============================] - 0s 253us/step - loss: 0.7001 - accuracy: 0.5084 - val_loss: 1.0111 - val_accuracy: 0.4905\n",
            "Epoch 87/100\n",
            "1072/1072 [==============================] - 0s 248us/step - loss: 0.7060 - accuracy: 0.4972 - val_loss: 1.0122 - val_accuracy: 0.4905\n",
            "Epoch 88/100\n",
            "1072/1072 [==============================] - 0s 252us/step - loss: 0.7011 - accuracy: 0.5084 - val_loss: 1.0134 - val_accuracy: 0.4905\n",
            "Epoch 89/100\n",
            "1072/1072 [==============================] - 0s 262us/step - loss: 0.7010 - accuracy: 0.5103 - val_loss: 1.0153 - val_accuracy: 0.4905\n",
            "Epoch 90/100\n",
            "1072/1072 [==============================] - 0s 293us/step - loss: 0.6979 - accuracy: 0.5037 - val_loss: 1.0170 - val_accuracy: 0.4905\n",
            "Epoch 91/100\n",
            "1072/1072 [==============================] - 0s 246us/step - loss: 0.7104 - accuracy: 0.5065 - val_loss: 1.0171 - val_accuracy: 0.4905\n",
            "Epoch 92/100\n",
            "1072/1072 [==============================] - 0s 295us/step - loss: 0.7014 - accuracy: 0.5028 - val_loss: 1.0173 - val_accuracy: 0.4905\n",
            "Epoch 93/100\n",
            "1072/1072 [==============================] - 0s 252us/step - loss: 0.7144 - accuracy: 0.5028 - val_loss: 1.0157 - val_accuracy: 0.4905\n",
            "Epoch 94/100\n",
            "1072/1072 [==============================] - 0s 314us/step - loss: 0.7015 - accuracy: 0.5037 - val_loss: 1.0174 - val_accuracy: 0.4905\n",
            "Epoch 95/100\n",
            "1072/1072 [==============================] - 0s 321us/step - loss: 0.7033 - accuracy: 0.5028 - val_loss: 1.0177 - val_accuracy: 0.4905\n",
            "Epoch 96/100\n",
            "1072/1072 [==============================] - 0s 330us/step - loss: 0.7007 - accuracy: 0.5075 - val_loss: 1.0191 - val_accuracy: 0.4905\n",
            "Epoch 97/100\n",
            "1072/1072 [==============================] - 0s 257us/step - loss: 0.6994 - accuracy: 0.5056 - val_loss: 1.0206 - val_accuracy: 0.4905\n",
            "Epoch 98/100\n",
            "1072/1072 [==============================] - 0s 254us/step - loss: 0.7037 - accuracy: 0.5103 - val_loss: 1.0185 - val_accuracy: 0.4886\n",
            "Epoch 99/100\n",
            "1072/1072 [==============================] - 0s 262us/step - loss: 0.7063 - accuracy: 0.5037 - val_loss: 1.0194 - val_accuracy: 0.4886\n",
            "Epoch 100/100\n",
            "1072/1072 [==============================] - 0s 247us/step - loss: 0.7071 - accuracy: 0.5028 - val_loss: 1.0197 - val_accuracy: 0.4886\n"
          ],
          "name": "stdout"
        }
      ]
    },
    {
      "cell_type": "code",
      "metadata": {
        "id": "VGYrwC0A0VTO",
        "colab_type": "code",
        "colab": {}
      },
      "source": [
        ""
      ],
      "execution_count": null,
      "outputs": []
    }
  ]
}